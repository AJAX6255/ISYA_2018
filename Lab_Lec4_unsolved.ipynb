{
 "cells": [
  {
   "cell_type": "markdown",
   "metadata": {},
   "source": [
    "# Time Domain: Exploring light SDSS light curves\n",
    "In this notebook we explore several things studied in classs for the analysis of astronomical light curves. We first demonstrate how the light curve of a RR Lyrae star can be decomposed into a series of harmonic signals, using Fast Fourier Transform. We then show some examples of bootstrapping using the same Chandra date we used in Lecture 2. We then go back to the light curves and compute single-band and multi-band periodograms in order to find their periods, and apply bootstraping to find the significance of the periodic signal found. This notebook is heavily based on work by Jake Vanderplas.\n",
    "\n",
    "## Fast Fourier Transform of an RR Lyrae Light Curve\n",
    "Here we take a template for the light curve of an RR Lyrae and perform a Fast Fourier Transfor (FFT) fit to it."
   ]
  },
  {
   "cell_type": "code",
   "execution_count": null,
   "metadata": {},
   "outputs": [],
   "source": [
    "# Author: Jake VanderPlas\n",
    "# License: BSD\n",
    "#   The figure produced by this code is published in the textbook\n",
    "#   \"Statistics, Data Mining, and Machine Learning in Astronomy\" (2013)\n",
    "#   For more information, see http://astroML.github.com\n",
    "#   To report a bug or issue, use the following forum:\n",
    "#    https://groups.google.com/forum/#!forum/astroml-general\n",
    "\n",
    "import numpy as np\n",
    "from matplotlib import pyplot as plt\n",
    "\n",
    "from astroML.datasets import fetch_rrlyrae_templates\n",
    "\n",
    "#----------------------------------------------------------------------\n",
    "# This function adjusts matplotlib settings for a uniform feel in the textbook.\n",
    "# Note that with usetex=True, fonts are rendered with LaTeX.  This may\n",
    "# result in an error if LaTeX is not installed on your system.  In that case,\n",
    "# you can set usetex to False.\n",
    "#from astroML.plotting import setup_text_plots\n",
    "#setup_text_plots(fontsize=8, usetex=True)\n",
    "\n",
    "#------------------------------------------------------------\n",
    "# Load the RR Lyrae template\n",
    "templates = fetch_rrlyrae_templates()\n",
    "x, y = templates['115r'].T\n",
    "\n",
    "#------------------------------------------------------------\n",
    "# Plot the results\n",
    "fig = plt.figure(figsize=(5, 5))\n",
    "fig.subplots_adjust(hspace=0)\n",
    "\n",
    "kvals = [1, 3, 8]\n",
    "subplots = [311, 312, 313]\n",
    "\n",
    "for (k, subplot) in zip(kvals, subplots):\n",
    "    ax = fig.add_subplot(subplot)\n",
    "\n",
    "    # Use FFT to fit a truncated Fourier series\n",
    "    y_fft = np.fft.fft(y)\n",
    "    y_fft[k + 1:-k] = 0\n",
    "    y_fit = np.fft.ifft(y_fft).real\n",
    "\n",
    "    # plot the true value and the k-term reconstruction\n",
    "    ax.plot(np.concatenate([x, 1 + x]),\n",
    "            np.concatenate([y, y]), '--k', lw=2)\n",
    "    ax.plot(np.concatenate([x, 1 + x]),\n",
    "            np.concatenate([y_fit, y_fit]), color='gray')\n",
    "\n",
    "    label = \"%i mode\" % k\n",
    "    if k > 1:\n",
    "        label += 's'\n",
    "\n",
    "    ax.text(0.02, 0.1, label, ha='left', va='bottom',\n",
    "            transform=ax.transAxes)\n",
    "\n",
    "    if subplot == subplots[-1]:\n",
    "        ax.set_xlabel('phase')\n",
    "    else:\n",
    "        ax.xaxis.set_major_formatter(plt.NullFormatter())\n",
    "\n",
    "    if subplot == subplots[1]:\n",
    "        ax.set_ylabel('amplitude')\n",
    "    ax.yaxis.set_major_formatter(plt.NullFormatter())\n",
    "\n",
    "    ax.set_xlim(0, 2)\n",
    "    ax.set_ylim(1.1, -0.1)\n",
    "plt.show()"
   ]
  },
  {
   "cell_type": "markdown",
   "metadata": {},
   "source": [
    "## Bootstrapping\n",
    "We have discussed in the lecture the concept of bootstrapping, which consists on estimating the parameters of a population by using a single sample of that population. Here we demonstrate it using the distribution of detected photons in the Chandra ACIS data that we have seen in previous lectures."
   ]
  },
  {
   "cell_type": "code",
   "execution_count": null,
   "metadata": {},
   "outputs": [],
   "source": [
    "# Load the data first\n",
    "from astropy.io import fits\n",
    "hdul = fits.open('/Users/jmartine/teaching/isya2018/lecture1/data/18344/primary/acisf18344N001_evt2.fits')\n",
    "\n",
    "# Create a mask to select the desired pixel\n",
    "mask = ((hdul[1].data['ccd_id']==7) \n",
    "        & (hdul[1].data['dety']>=3961.)\n",
    "        & (hdul[1].data['dety']<3962.)\n",
    "        & (hdul[1].data['detx']>=4519.)\n",
    "        & (hdul[1].data['detx']<4920.))\n",
    "\n",
    "# Get the times of arrival of the photos for that pixel\n",
    "times = np.array(hdul[1].data['time'][mask])\n",
    "\n",
    "# Split the time into equal intervals\n",
    "t_intvls = np.linspace(np.min(times),np.max(times),300)\n",
    "\n",
    "# Count how many photos were detected in each equal time interval\n",
    "n_events = []\n",
    "for i in range(len(t_intvls[0:-1])):\n",
    "    n_events.append(len(times[(times>t_intvls[i]) & (times<t_intvls[i+1])]))\n",
    "\n",
    "#Plot the histogram\n",
    "plt.hist(n_events,alpha=0.4)\n",
    "plt.title('No. of photons detected on pixel (3961,4919) per unit time')\n",
    "plt.xlabel('No. of photons')\n",
    "plt.ylabel('N')"
   ]
  },
  {
   "cell_type": "markdown",
   "metadata": {},
   "source": [
    "Now that we have a sample of events, we will use bootstrapping to try to estimate parameters of the entire population, and to estimate the error in the determination of those parameters due to sampling. We do it here for the mean of the distribution, both parametric and non-parametric."
   ]
  },
  {
   "cell_type": "code",
   "execution_count": null,
   "metadata": {},
   "outputs": [],
   "source": [
    "# Bootstrapping\n",
    "n_events = np.array(n_events) # The total number of events in our sample\n",
    "M_samples=10000  # The number of bootstrap samples we want\n",
    "N_points = n_events.shape[0]  # The number of points we want to samples from the dist.\n",
    "\n",
    "# Let's sample with replacement.\n",
    "bs_np = np.random.choice(n_events, size=(M_samples, N_points), replace=True)\n",
    "\n",
    "# Calculate the mean\n",
    "sd_mean=np.mean(bs_np, axis=1)\n",
    "\n",
    "# And the standard deviation\n",
    "sd_std=np.std(bs_np, axis=1)\n",
    "\n",
    "# Plot results\n",
    "plt.hist(sd_mean, bins=30, normed=True, alpha=0.5,label=\"samples\");\n",
    "plt.axvline(n_events.mean(), 0, 1, color='r', label='Our Sample')\n",
    "plt.legend()"
   ]
  },
  {
   "cell_type": "markdown",
   "metadata": {},
   "source": [
    "We can do it even more explicit"
   ]
  },
  {
   "cell_type": "code",
   "execution_count": null,
   "metadata": {},
   "outputs": [],
   "source": [
    "M_samples=10000\n",
    "N_points = n_events.shape[0]\n",
    "bs_np = np.ones(shape=(M_samples, N_points))\n",
    "for i in range(M_samples):    \n",
    "    bs_np[i,:] = np.random.choice(n_events, size=N_points, replace=True)\n",
    "sd_mean=np.mean(bs_np, axis=1)\n",
    "sd_std=np.std(bs_np, axis=1)\n",
    "plt.hist(sd_mean, bins=30, normed=True, alpha=0.5,label=\"samples\");\n",
    "plt.axvline(n_events.mean(), 0, 1, color='r', label='Our Sample')\n",
    "plt.legend()"
   ]
  },
  {
   "cell_type": "markdown",
   "metadata": {},
   "source": [
    "Now we do it with a parametric Poisson distribution."
   ]
  },
  {
   "cell_type": "code",
   "execution_count": null,
   "metadata": {},
   "outputs": [],
   "source": [
    "#Now parametric\n",
    "\n",
    "from scipy.stats import poisson\n",
    "M_samples=10000\n",
    "N_points = n_events.shape[0]\n",
    "bs_p = poisson.rvs(n_events.mean(),size=(M_samples, N_points))\n",
    "sd_mean_p=np.mean(bs_p, axis=1)\n",
    "sd_std_p=np.std(bs_p, axis=1)\n",
    "plt.hist(sd_mean_p, bins=30, normed=True, alpha=0.5, label=\"samples\");\n",
    "plt.axvline(n_events.mean(), 0, 1, color='r', label='Our Sample')\n",
    "plt.legend()"
   ]
  },
  {
   "cell_type": "markdown",
   "metadata": {},
   "source": [
    "## Lomb-Scargle Periodogram\n",
    "We have seen that we can find the period of a variable light curve by constructing the Lomb-Scargle periodogram and looking for the highest peak. The periodogram is a representation of the power of the different frequencies that compose the signal. Below we create 30 noisy measurements taken at irregular times, with a period of 0.3 days, and compute the Lomb-Scargle periodogram using the python package astroML. We also compute the significance by using bootstrap. It is pretty straightforward with astroML."
   ]
  },
  {
   "cell_type": "code",
   "execution_count": null,
   "metadata": {},
   "outputs": [],
   "source": [
    "# Author: Jake VanderPlas\n",
    "# License: BSD\n",
    "#   The figure produced by this code is published in the textbook\n",
    "#   \"Statistics, Data Mining, and Machine Learning in Astronomy\" (2013)\n",
    "#   For more information, see http://astroML.github.com\n",
    "#   To report a bug or issue, use the following forum:\n",
    "#    https://groups.google.com/forum/#!forum/astroml-general\n",
    "import numpy as np\n",
    "from matplotlib import pyplot as plt\n",
    "from astroML.time_series import\\\n",
    "    lomb_scargle, lomb_scargle_BIC, lomb_scargle_bootstrap\n",
    "\n",
    "#------------------------------------------------------------\n",
    "# Generate Data\n",
    "np.random.seed(0)\n",
    "N = 30\n",
    "P = 0.3\n",
    "\n",
    "t = np.random.randint(100, size=N) + 0.4 * np.random.random(N) # Times\n",
    "y = 10 + np.sin(2 * np.pi * t / P)  # True magnitudes\n",
    "dy = 0.5 + 0.5 * np.random.random(N)  # Magnitude errors\n",
    "y_obs = np.random.normal(y, dy)       # Observed magnitudes\n",
    "\n",
    "#------------------------------------------------------------\n",
    "# Compute periodogram\n",
    "period = 10 ** np.linspace(-1, 0, 10000) # Periods where periodogram is evaluated\n",
    "omega = 2 * np.pi / period  # Angular frequency\n",
    "PS = lomb_scargle(t, y_obs, dy, omega, generalized=True) # Periodogram\n",
    "\n",
    "#------------------------------------------------------------\n",
    "# Get significance via bootstrap\n",
    "D = lomb_scargle_bootstrap(t, y_obs, dy, omega, generalized=True,\n",
    "                           N_bootstraps=1000, random_state=0)\n",
    "sig1, sig5 = np.percentile(D, [99, 95])\n",
    "\n",
    "#------------------------------------------------------------\n",
    "# Plot the results\n",
    "fig = plt.figure(figsize=(5, 3.75))\n",
    "fig.subplots_adjust(left=0.1, right=0.9, hspace=0.25)\n",
    "\n",
    "# First panel: the data\n",
    "ax = fig.add_subplot(211)\n",
    "ax.errorbar(t, y_obs, dy, fmt='.k', lw=1, ecolor='gray')\n",
    "ax.set_xlabel('time (days)')\n",
    "ax.set_ylabel('flux')\n",
    "ax.set_xlim(-5, 105)\n",
    "\n",
    "# Second panel: the periodogram & significance levels\n",
    "ax1 = fig.add_subplot(212, xscale='log')\n",
    "ax1.plot(period, PS, '-', c='black', lw=1, zorder=1)\n",
    "ax1.plot([period[0], period[-1]], [sig1, sig1], ':', c='black')\n",
    "ax1.plot([period[0], period[-1]], [sig5, sig5], ':', c='black')\n",
    "\n",
    "ax1.annotate(\"\", (0.3, 0.65), (0.3, 0.85), ha='center',\n",
    "             arrowprops=dict(arrowstyle='->'))\n",
    "\n",
    "ax1.set_xlim(period[0], period[-1])\n",
    "ax1.set_ylim(-0.05, 0.85)\n",
    "\n",
    "ax1.set_xlabel(r'period (days)')\n",
    "ax1.set_ylabel('power')\n",
    "\n",
    "# Twin axis: label BIC on the right side\n",
    "ax2 = ax1.twinx()\n",
    "ax2.set_ylim(tuple(lomb_scargle_BIC(ax1.get_ylim(), y_obs, dy)))\n",
    "ax2.set_ylabel(r'$\\Delta BIC$')\n",
    "\n",
    "ax1.xaxis.set_major_formatter(plt.FormatStrFormatter('%.1f'))\n",
    "ax1.xaxis.set_minor_formatter(plt.FormatStrFormatter('%.1f'))\n",
    "ax1.xaxis.set_major_locator(plt.LogLocator(10))\n",
    "ax1.xaxis.set_major_formatter(plt.FormatStrFormatter('%.3g'))\n",
    "\n",
    "#plt.show()"
   ]
  },
  {
   "cell_type": "markdown",
   "metadata": {},
   "source": [
    "## SDSS Stripe 82 Light Curves\n",
    "We will now look at some SDSS Stripe 82 light curves. We will find their periods, fold them, and see what they have to tell us about the variable source they represent."
   ]
  },
  {
   "cell_type": "code",
   "execution_count": null,
   "metadata": {},
   "outputs": [],
   "source": [
    "# Load the data\n",
    "import pandas as pd\n",
    "df = pd.read_csv('data/LC_1301781.dat', comment='#', delimiter=\" \",names=[\"time\",\"filter\",\"mag\",\"mag_err\"])\n",
    "df = df[df['mag'] >= 0] #Cleaning the data\n",
    "df"
   ]
  },
  {
   "cell_type": "code",
   "execution_count": null,
   "metadata": {},
   "outputs": [],
   "source": [
    "# Here we just create arrays representing the different columns of the table.\n",
    "#times = np.array(map(float,df.iloc[:,0].values))\n",
    "times = df.iloc[:,0].values\n",
    "#mags = np.array(map(float,df.iloc[:,2].values))\n",
    "mags = df.iloc[:,2].values\n",
    "#dmags = np.array(map(float,df.iloc[:,3].values))\n",
    "dmags = df.iloc[:,3].values\n",
    "filters = df.iloc[:,1].values"
   ]
  },
  {
   "cell_type": "markdown",
   "metadata": {},
   "source": [
    "We can plot the unfolded light curve"
   ]
  },
  {
   "cell_type": "code",
   "execution_count": null,
   "metadata": {},
   "outputs": [],
   "source": [
    "plt.scatter(times[filters == 'u'],mags[filters == 'u'],marker='o',color='b',label='u')\n",
    "plt.scatter(times[filters == 'g'],mags[filters == 'g'],marker='o',color='r',label='g')\n",
    "plt.scatter(times[filters == 'r'],mags[filters == 'r'],marker='o',color='g',label='r')\n",
    "plt.scatter(times[filters == 'i'],mags[filters == 'i'],marker='o',color='orange',label='i')\n",
    "plt.scatter(times[filters == 'z'],mags[filters == 'z'],marker='o',color='purple',label='z')\n",
    "#plt.ylim(18,20.5)\n",
    "#plt.xlim(0.,1.)\n",
    "plt.title('Light Curve',size=15)\n",
    "plt.xlabel('Time (d)',size=15)\n",
    "plt.ylabel('mag',size=15)\n",
    "plt.legend(loc=4)\n",
    "plt.gca().invert_yaxis()"
   ]
  },
  {
   "cell_type": "code",
   "execution_count": null,
   "metadata": {},
   "outputs": [],
   "source": [
    "# Let's look at the r filter data only\n",
    "mags_r = mags[filters == 'r']\n",
    "times_r = times[filters == 'r']\n",
    "dmags_r = dmags[filters == 'r']\n",
    "\n",
    "mags_u = mags[filters == 'u']\n",
    "times_u = times[filters == 'u']\n",
    "dmags_u = dmags[filters == 'u']\n",
    "\n",
    "mags_z = mags[filters == 'z']\n",
    "times_z = times[filters == 'z']\n",
    "dmags_z = dmags[filters == 'z']"
   ]
  },
  {
   "cell_type": "markdown",
   "metadata": {},
   "source": [
    "Let's first use the single band periodogram to find the periods in the different bands."
   ]
  },
  {
   "cell_type": "code",
   "execution_count": null,
   "metadata": {},
   "outputs": [],
   "source": [
    "# Single band Lomb-Scargle for band r\n",
    "from gatspy import periodic\n",
    "periods = np.linspace(0.2, 0.9, 1000)\n",
    "P = periodic.LombScargleAstroML().fit(times_r,mags_r,dmags_r).periodogram(periods)\n",
    "plt.plot(periods, P, lw=0.5)\n",
    "plt.xlabel('Period (days)')"
   ]
  },
  {
   "cell_type": "code",
   "execution_count": null,
   "metadata": {},
   "outputs": [],
   "source": [
    "# Single band Lomb-Scargle for band u\n",
    "from gatspy import periodic\n",
    "periods = np.linspace(0.2, 0.9, 1000)\n",
    "P = periodic.LombScargleAstroML().fit(times_u,mags_u,dmags_u).periodogram(periods)\n",
    "plt.plot(periods, P, lw=0.5)\n",
    "plt.xlabel('Period (days)')"
   ]
  },
  {
   "cell_type": "code",
   "execution_count": null,
   "metadata": {},
   "outputs": [],
   "source": [
    "# Single band Lomb-Scargle for band z\n",
    "from gatspy import periodic\n",
    "periods = np.linspace(0.2, 0.9, 1000)\n",
    "P = periodic.LombScargleAstroML().fit(times_z,mags_z,dmags_z).periodogram(periods)\n",
    "plt.plot(periods, P, lw=0.5)\n",
    "plt.xlabel('Period (days)')"
   ]
  },
  {
   "cell_type": "markdown",
   "metadata": {},
   "source": [
    "Let's now do it using the Multi Band periodogram, which takes advantage of the information in all filters, by calculating an overall variability, and then deviations from that overall variability in each filter."
   ]
  },
  {
   "cell_type": "code",
   "execution_count": null,
   "metadata": {},
   "outputs": [],
   "source": [
    "P_multi = periodic.LombScargleMultiband(Nterms_base=1, Nterms_band=0).fit(times,mags,dmags,filters).periodogram(periods)\n",
    "plt.plot(periods, P_multi, lw=0.5)\n",
    "plt.xlabel('Period (days)')"
   ]
  },
  {
   "cell_type": "markdown",
   "metadata": {},
   "source": [
    "And now let's fit to find the best period:"
   ]
  },
  {
   "cell_type": "code",
   "execution_count": null,
   "metadata": {},
   "outputs": [],
   "source": [
    "ls = periodic.LombScargleMultiband(fit_period=True,Nterms_base=1, Nterms_band=0)\n",
    "ls.optimizer.period_range = (0.2, 0.9)\n",
    "ls.fit(times,mags,dmags,filters)\n",
    "period = ls.best_period\n",
    "print ('Best period: ', period)"
   ]
  },
  {
   "cell_type": "code",
   "execution_count": null,
   "metadata": {},
   "outputs": [],
   "source": [
    "foldTimes =  times / period  # divide by period to convert to phase\n",
    "foldTimes = foldTimes % 1   # take fractional part of phase only (i.e. discard whole number part)"
   ]
  },
  {
   "cell_type": "code",
   "execution_count": null,
   "metadata": {},
   "outputs": [],
   "source": [
    "# Now we plot the light curve\n",
    "# plot folded lightcurve\n",
    "plt.scatter(foldTimes[filters == 'u'],mags[filters == 'u'],marker='o',color='b',label='u')\n",
    "plt.scatter(foldTimes[filters == 'g'],mags[filters == 'g'],marker='o',color='r',label='g')\n",
    "plt.scatter(foldTimes[filters == 'r'],mags[filters == 'r'],marker='o',color='g',label='r')\n",
    "plt.scatter(foldTimes[filters == 'i'],mags[filters == 'i'],marker='o',color='orange',label='i')\n",
    "plt.scatter(foldTimes[filters == 'z'],mags[filters == 'z'],marker='o',color='purple',label='z')\n",
    "#plt.ylim(18,20.5)\n",
    "plt.xlim(0.,1.)\n",
    "plt.title('Light Curve',size=15)\n",
    "plt.xlabel('phase (period = 0.60105 d)',size=15)\n",
    "plt.ylabel('mag',size=15)\n",
    "plt.legend(loc=4)\n",
    "plt.gca().invert_yaxis()"
   ]
  },
  {
   "cell_type": "markdown",
   "metadata": {},
   "source": [
    "### Exercise\n",
    "1. Find the periods for the remianing light curves of the dataset, using both single-band periodogram and the multi-band periodogram. What is the range of periods you find? Are all light curves similar?\n",
    "\n",
    "2. Plot the periodograms. So you see any other significant period peaks? Try to fold the light curves with the highest and second and third hightst peaks. \n",
    "\n",
    "3. Using bootstrapping, find the significance of the main peak in each case. How likely is it to find the periodicity if the null hypothesis is assumed?\n",
    "\n",
    "4. Suppose that you have the following magnitude limits in the different bands:\n",
    "\n",
    "* $r$, $i$, $z$ bands: 18 mag\n",
    "* $g$ band: 18.5 mag\n",
    "* $u$ babd: 19 mag.\n",
    "\n",
    "Repeat the period finding analysos under these conditions. What do you find?\n"
   ]
  }
 ],
 "metadata": {
  "kernelspec": {
   "display_name": "Python 3",
   "language": "python",
   "name": "python3"
  },
  "language_info": {
   "codemirror_mode": {
    "name": "ipython",
    "version": 3
   },
   "file_extension": ".py",
   "mimetype": "text/x-python",
   "name": "python",
   "nbconvert_exporter": "python",
   "pygments_lexer": "ipython3",
   "version": "3.6.4"
  }
 },
 "nbformat": 4,
 "nbformat_minor": 2
}
